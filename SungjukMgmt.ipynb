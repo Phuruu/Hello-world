{
 "cells": [
  {
   "cell_type": "code",
   "execution_count": 8,
   "id": "7a9199a0",
   "metadata": {},
   "outputs": [],
   "source": [
    "def student_calc():\n",
    "    tot = student[\"kor\"] + student[\"eng\"] + student[\"math\"]\n",
    "    avg = tot / 3\n",
    "    if 90 <= avg <= 100: grade =\"A\"\n",
    "    elif 80 <= avg <= 90: grade = \"B\"\n",
    "    elif 70 <= avg <= 80 : grade = \"C\"\n",
    "    elif 60 <= avg <= 70 : grade =\"D\"\n",
    "    else : grade = \"F\"\n",
    "    student[\"tot\"] = tot\n",
    "    student[\"avg\"] = avg\n",
    "    student[\"grade\"] = grade\n",
    "    "
   ]
  },
  {
   "cell_type": "code",
   "execution_count": null,
   "id": "bbc32b07",
   "metadata": {},
   "outputs": [],
   "source": [
    "def student_output(student):\n",
    "    print('*******AWS High School *********')\n",
    "    print('이름            국어      영어       수학        총점       평균          평점')\n",
    "    print(f'{student[\"irum\"]}\\t{student}[\"kor\"]')\\t{student}[\"eng\"]')\\t\n",
    "    {student}[\"math\"]')\\t{student}[\"tot\"]')\\t{student}[\"avg\"]')\\t{student}[\"grade\"]')\\t"
   ]
  },
  {
   "cell_type": "code",
   "execution_count": 9,
   "id": "24d846b8",
   "metadata": {},
   "outputs": [],
   "source": [
    "def student_input(student):\n",
    "    irum = input('Name: ')\n",
    "    kor = int (input('Korean: '))\n",
    "    eng = int (input('English: '))\n",
    "    math = int (input('Math: '))\n",
    "    student[\"irum\"] = irum\n",
    "    student[\"kor\"] = kor\n",
    "    student[\"eng\"] = eng\n",
    "    student[\"math\"] = math"
   ]
  },
  {
   "cell_type": "code",
   "execution_count": 11,
   "id": "7b5a60d8",
   "metadata": {},
   "outputs": [
    {
     "name": "stdout",
     "output_type": "stream",
     "text": [
      "Name: sara\n",
      "Korean: 100\n",
      "English: 100\n",
      "Math: 100\n"
     ]
    },
    {
     "ename": "TypeError",
     "evalue": "student_calc() takes 0 positional arguments but 1 was given",
     "output_type": "error",
     "traceback": [
      "\u001b[1;31m---------------------------------------------------------------------------\u001b[0m",
      "\u001b[1;31mTypeError\u001b[0m                                 Traceback (most recent call last)",
      "Cell \u001b[1;32mIn[11], line 3\u001b[0m\n\u001b[0;32m      1\u001b[0m student \u001b[38;5;241m=\u001b[39m {}\n\u001b[0;32m      2\u001b[0m student_input(student)\n\u001b[1;32m----> 3\u001b[0m \u001b[43mstudent_calc\u001b[49m\u001b[43m(\u001b[49m\u001b[43mstudent\u001b[49m\u001b[43m)\u001b[49m\n\u001b[0;32m      4\u001b[0m \u001b[38;5;28mprint\u001b[39m(student)\n",
      "\u001b[1;31mTypeError\u001b[0m: student_calc() takes 0 positional arguments but 1 was given"
     ]
    }
   ],
   "source": [
    "student = {}\n",
    "student_input(student)\n",
    "student_calc(student)\n",
    "print(student)"
   ]
  }
 ],
 "metadata": {
  "kernelspec": {
   "display_name": "Python 3 (ipykernel)",
   "language": "python",
   "name": "python3"
  },
  "language_info": {
   "codemirror_mode": {
    "name": "ipython",
    "version": 3
   },
   "file_extension": ".py",
   "mimetype": "text/x-python",
   "name": "python",
   "nbconvert_exporter": "python",
   "pygments_lexer": "ipython3",
   "version": "3.11.4"
  }
 },
 "nbformat": 4,
 "nbformat_minor": 5
}
